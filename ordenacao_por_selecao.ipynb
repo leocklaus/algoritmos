{
  "nbformat": 4,
  "nbformat_minor": 0,
  "metadata": {
    "colab": {
      "provenance": [],
      "authorship_tag": "ABX9TyOErJIT5V2XvPZDhsJdpUSG",
      "include_colab_link": true
    },
    "kernelspec": {
      "name": "python3",
      "display_name": "Python 3"
    },
    "language_info": {
      "name": "python"
    }
  },
  "cells": [
    {
      "cell_type": "markdown",
      "metadata": {
        "id": "view-in-github",
        "colab_type": "text"
      },
      "source": [
        "<a href=\"https://colab.research.google.com/github/leocklaus/algoritmos/blob/main/ordenacao_por_selecao.ipynb\" target=\"_parent\"><img src=\"https://colab.research.google.com/assets/colab-badge.svg\" alt=\"Open In Colab\"/></a>"
      ]
    },
    {
      "cell_type": "code",
      "execution_count": 13,
      "metadata": {
        "id": "zV0ZUvdqxM9c"
      },
      "outputs": [],
      "source": [
        "def get_indice_do_maior_valor(arr):\n",
        "  maior_valor = arr[0]\n",
        "  indice_maior_valor = 0\n",
        "  for i in range(1, len(arr)):\n",
        "    if arr[i] > maior_valor:\n",
        "      maior_valor = arr[i]\n",
        "      indice_maior_valor = i\n",
        "  return indice_maior_valor\n",
        "\n",
        "def get_indice_do_menor_valor(arr):\n",
        "  menor_valor = arr[0]\n",
        "  indice_menor_valor = 0\n",
        "  for i in range(1, len(arr)):\n",
        "    if arr[i] < menor_valor:\n",
        "      menor_valor = arr[i]\n",
        "      indice_menor_valor = i\n",
        "  return indice_menor_valor\n"
      ]
    },
    {
      "cell_type": "code",
      "source": [
        "def ordena_array(arr, ordem):\n",
        "  array_ordenado = []\n",
        "  while len(arr) > 0:\n",
        "    if ordem == \"asc\":\n",
        "      indice = get_indice_do_menor_valor(arr)\n",
        "    elif ordem == \"desc\":\n",
        "      indice = get_indice_do_maior_valor(arr)\n",
        "    array_ordenado.append(arr.pop(indice))\n",
        "  return array_ordenado"
      ],
      "metadata": {
        "id": "e7i0aDDjyXyF"
      },
      "execution_count": 17,
      "outputs": []
    },
    {
      "cell_type": "code",
      "source": [
        "A = [1,4,2,1,27,12,15,2,4]\n",
        "array_ordenado = ordena_array(A, \"desc\")\n",
        "print(array_ordenado)"
      ],
      "metadata": {
        "colab": {
          "base_uri": "https://localhost:8080/"
        },
        "id": "kBxWauyxzx9n",
        "outputId": "e39b4315-8ac4-421e-eec9-4a0307579974"
      },
      "execution_count": 19,
      "outputs": [
        {
          "output_type": "stream",
          "name": "stdout",
          "text": [
            "[27, 15, 12, 4, 4, 2, 2, 1, 1]\n"
          ]
        }
      ]
    }
  ]
}