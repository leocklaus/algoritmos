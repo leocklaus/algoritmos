{
  "nbformat": 4,
  "nbformat_minor": 0,
  "metadata": {
    "colab": {
      "provenance": [],
      "authorship_tag": "ABX9TyPfv5bOTbtm4XPD+pL8VJjZ",
      "include_colab_link": true
    },
    "kernelspec": {
      "name": "python3",
      "display_name": "Python 3"
    },
    "language_info": {
      "name": "python"
    }
  },
  "cells": [
    {
      "cell_type": "markdown",
      "metadata": {
        "id": "view-in-github",
        "colab_type": "text"
      },
      "source": [
        "<a href=\"https://colab.research.google.com/github/leocklaus/algoritmos/blob/main/pesquisa_binaria_recursiva.ipynb\" target=\"_parent\"><img src=\"https://colab.research.google.com/assets/colab-badge.svg\" alt=\"Open In Colab\"/></a>"
      ]
    },
    {
      "cell_type": "code",
      "execution_count": null,
      "metadata": {
        "id": "m-m-JJG_-Ocq"
      },
      "outputs": [],
      "source": [
        "A = [10, 20, 35, 42, 57, 80, 92, 100, 135, 142, 176, 224, 236]"
      ]
    },
    {
      "cell_type": "code",
      "source": [
        "def pesquisa_binaria(arr, elemento_a_ser_encontrado):\n",
        "    if len(arr) == 0:\n",
        "      print(\"valor não encontrado\")\n",
        "      return -1\n",
        "    elemento_inicial = arr[0]\n",
        "    elemento_final = arr[-1]\n",
        "    posicao_do_meio = len(arr)//2\n",
        "    elemento_do_meio = arr[posicao_do_meio]\n",
        "    if elemento_do_meio == elemento_a_ser_encontrado:\n",
        "      print(\"encontrei o valor\")\n",
        "      return\n",
        "    elif elemento_do_meio < elemento_a_ser_encontrado:\n",
        "      pesquisa_binaria(arr[posicao_do_meio + 1:], elemento_a_ser_encontrado)\n",
        "    elif elemento_do_meio > elemento_a_ser_encontrado:\n",
        "      pesquisa_binaria(arr[:posicao_do_meio], elemento_a_ser_encontrado)"
      ],
      "metadata": {
        "id": "SJOLmGek--wQ"
      },
      "execution_count": null,
      "outputs": []
    },
    {
      "cell_type": "code",
      "source": [
        "pesquisa_binaria(A, 135)"
      ],
      "metadata": {
        "colab": {
          "base_uri": "https://localhost:8080/"
        },
        "id": "7-osXJhHCdEA",
        "outputId": "41128f5f-977d-4bf7-d098-4ffa235cf5e2"
      },
      "execution_count": null,
      "outputs": [
        {
          "output_type": "stream",
          "name": "stdout",
          "text": [
            "encontrei o valor\n"
          ]
        }
      ]
    }
  ]
}