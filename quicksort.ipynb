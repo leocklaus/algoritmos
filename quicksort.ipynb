{
  "nbformat": 4,
  "nbformat_minor": 0,
  "metadata": {
    "colab": {
      "provenance": [],
      "authorship_tag": "ABX9TyNMh/c09UuCXhk1TdPJ4/3Z",
      "include_colab_link": true
    },
    "kernelspec": {
      "name": "python3",
      "display_name": "Python 3"
    },
    "language_info": {
      "name": "python"
    }
  },
  "cells": [
    {
      "cell_type": "markdown",
      "metadata": {
        "id": "view-in-github",
        "colab_type": "text"
      },
      "source": [
        "<a href=\"https://colab.research.google.com/github/leocklaus/algoritmos/blob/main/quicksort.ipynb\" target=\"_parent\"><img src=\"https://colab.research.google.com/assets/colab-badge.svg\" alt=\"Open In Colab\"/></a>"
      ]
    },
    {
      "cell_type": "code",
      "execution_count": 18,
      "metadata": {
        "id": "tqx59MIb3FdP"
      },
      "outputs": [],
      "source": [
        "def quicksort(arr):\n",
        "  if len(arr) < 2:\n",
        "    return arr\n",
        "  pivo = arr[0]\n",
        "  menores = [item for item in arr[1:] if item <= pivo]\n",
        "  maiores = [item for item in arr[1:] if item > pivo]\n",
        "  return quicksort(menores) + [pivo] + quicksort(maiores)\n",
        ""
      ]
    },
    {
      "cell_type": "code",
      "source": [
        "A = [1,4,2,1,27,12,15,2,4]\n",
        "print(quicksort(A))"
      ],
      "metadata": {
        "colab": {
          "base_uri": "https://localhost:8080/"
        },
        "id": "OIGqqbcM4Otk",
        "outputId": "9fa6924c-d21b-4f84-d0d4-28771abea4e2"
      },
      "execution_count": 20,
      "outputs": [
        {
          "output_type": "stream",
          "name": "stdout",
          "text": [
            "[1, 1, 2, 2, 4, 4, 12, 15, 27]\n"
          ]
        }
      ]
    }
  ]
}